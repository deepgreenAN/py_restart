{
 "cells": [
  {
   "cell_type": "code",
   "execution_count": 1,
   "metadata": {
    "ExecuteTime": {
     "end_time": "2021-04-02T04:06:07.478896Z",
     "start_time": "2021-04-02T04:06:07.435011Z"
    }
   },
   "outputs": [
    {
     "name": "stdout",
     "output_type": "stream",
     "text": [
      "E:\\py_restart\n"
     ]
    }
   ],
   "source": [
    "%cd .."
   ]
  },
  {
   "cell_type": "code",
   "execution_count": 5,
   "metadata": {
    "ExecuteTime": {
     "end_time": "2021-04-02T04:23:09.025070Z",
     "start_time": "2021-04-02T04:23:08.954261Z"
    }
   },
   "outputs": [],
   "source": [
    "import unittest\n",
    "from pathlib import Path"
   ]
  },
  {
   "cell_type": "code",
   "execution_count": 73,
   "metadata": {
    "ExecuteTime": {
     "end_time": "2021-04-02T05:59:24.243134Z",
     "start_time": "2021-04-02T05:59:24.217547Z"
    }
   },
   "outputs": [],
   "source": [
    "import pickle"
   ]
  },
  {
   "cell_type": "code",
   "execution_count": 4,
   "metadata": {
    "ExecuteTime": {
     "end_time": "2021-04-02T04:08:36.731477Z",
     "start_time": "2021-04-02T04:08:36.710535Z"
    }
   },
   "outputs": [],
   "source": [
    "from py_restart import multi_count, enable_counter, simple_counter"
   ]
  },
  {
   "cell_type": "code",
   "execution_count": 108,
   "metadata": {
    "ExecuteTime": {
     "end_time": "2021-04-02T06:46:11.410635Z",
     "start_time": "2021-04-02T06:46:11.373733Z"
    }
   },
   "outputs": [],
   "source": [
    "class SaveLoadContent():\n",
    "    \"\"\"\n",
    "    何かしらをpickleで保存する\n",
    "    \"\"\"\n",
    "    def __init__(self, content):\n",
    "        self.content = content\n",
    "        \n",
    "    def save(self, save_path):\n",
    "        with open(save_path, \"wb\") as f:\n",
    "            pickle.dump(self.content, f)\n",
    "            \n",
    "    def load(self, load_path):\n",
    "        with open(load_path, \"rb\") as f:\n",
    "            self.content = pickle.load(f)"
   ]
  },
  {
   "cell_type": "code",
   "execution_count": 109,
   "metadata": {
    "ExecuteTime": {
     "end_time": "2021-04-02T06:46:12.198113Z",
     "start_time": "2021-04-02T06:46:11.918307Z"
    }
   },
   "outputs": [],
   "source": [
    "class TestRestart(unittest.TestCase):\n",
    "    def setUp(self):\n",
    "        test_path = Path(\"test\")\n",
    "        tmp_list = list(test_path.glob(\"*.tmp\"))\n",
    "        for tmp_path in tmp_list:\n",
    "            tmp_path.unlink()\n",
    "            \n",
    "    def tearDown(self):\n",
    "        test_path = Path(\"test\")\n",
    "        tmp_list = list(test_path.glob(\"*.tmp\"))\n",
    "        self.assertEqual(len(tmp_list), 0)\n",
    "        pickle_list = list(test_path.glob(\"*.pickle\"))\n",
    "        self.assertEqual(len(pickle_list), 0)\n",
    "        \n",
    "    def test_enable_counter(self):\n",
    "        # 通常の利用\n",
    "        tempfile_path = Path(\"test/temp1.tmp\")\n",
    "        iter_counter = 0\n",
    "        try:\n",
    "            with enable_counter(tempfile_path) as counter:\n",
    "                for i in counter(range(10)):\n",
    "                    if iter_counter >= 5:\n",
    "                        raise Exception(\"stop iteration\")\n",
    "                    iter_counter+= 1\n",
    "        except:\n",
    "            pass\n",
    "        \n",
    "        with enable_counter(tempfile_path) as counter:\n",
    "            for i in counter(range(10)):\n",
    "                iter_counter += 1\n",
    "                \n",
    "        self.assertEqual(iter_counter, 10)\n",
    "        \n",
    "        # 何もしない\n",
    "        tempfile_path = Path(\"test/temp2.tmp\")\n",
    "        iter_counter = 0\n",
    "        try:\n",
    "            with enable_counter(tempfile_path, use_tempfile=False) as counter:\n",
    "                for i in counter(range(10)):\n",
    "                    if iter_counter >= 5:\n",
    "                        raise Exception(\"stop iteration\")\n",
    "                    iter_counter+= 1\n",
    "        except:\n",
    "            pass\n",
    "        with enable_counter(tempfile_path, use_tempfile=False) as counter:\n",
    "            for i in counter(range(10)):\n",
    "                iter_counter += 1\n",
    "                \n",
    "        self.assertEqual(iter_counter, 15)\n",
    "        \n",
    "        \n",
    "        \n",
    "    def test_simple_counter(self):\n",
    "        # 通常の利用\n",
    "        tempfile_path = Path(\"test/temp1.tmp\")\n",
    "        \n",
    "        iter_counter = 0\n",
    "        try:\n",
    "            for i in simple_counter(tempfile_path, range(10)):\n",
    "                if iter_counter >= 5:\n",
    "                    raise Exception(\"stop iteration\")\n",
    "                iter_counter+= 1\n",
    "        except:\n",
    "            pass\n",
    "        \n",
    "        for i in simple_counter(tempfile_path,range(10)):\n",
    "            iter_counter += 1\n",
    "                \n",
    "        self.assertEqual(iter_counter, 10)\n",
    "        \n",
    "        # 何もしない\n",
    "        tempfile_path = Path(\"test/temp2.tmp\")\n",
    "        \n",
    "        iter_counter = 0\n",
    "        try:\n",
    "            for i in simple_counter(tempfile_path, range(10), use_tempfile=False):\n",
    "                if iter_counter >= 5:\n",
    "                    raise Exception(\"stop iteration\")\n",
    "                iter_counter+= 1\n",
    "        except:\n",
    "            pass\n",
    "        \n",
    "        for i in simple_counter(tempfile_path,range(10), use_tempfile=False):\n",
    "            iter_counter += 1\n",
    "                \n",
    "        self.assertEqual(iter_counter, 15)       \n",
    "        \n",
    "        # save_spanを変更\n",
    "        tempfile_path = Path(\"test/temp3.tmp\")\n",
    "        \n",
    "        iter_counter = 0\n",
    "        try:\n",
    "            for i in simple_counter(tempfile_path, range(10), save_span=4): \n",
    "                if iter_counter >= 5:\n",
    "                    raise Exception(\"stop iteration\")\n",
    "                iter_counter+= 1\n",
    "        except:\n",
    "            pass\n",
    "        \n",
    "        for i in simple_counter(tempfile_path,range(10), save_span=4):\n",
    "            iter_counter += 1\n",
    "                \n",
    "        self.assertEqual(iter_counter, 11)\n",
    "    \n",
    "    def test_multi_count(self):\n",
    "        tempfile_path1 = Path(\"test/tempfile1.tmp\")\n",
    "        tempfile_path2 = Path(\"test/tempfile2.tmp\")\n",
    "        \n",
    "        iter_counter1 = 0\n",
    "        iter_counter2 = 0\n",
    "        \n",
    "        try:\n",
    "            with multi_count():\n",
    "                with enable_counter(tempfile_path1) as counter:\n",
    "                    for i in counter(range(10)):\n",
    "                        iter_counter1 += 1\n",
    "                        \n",
    "                for i in simple_counter(tempfile_path2, range(10)):\n",
    "                    if iter_counter2 >= 5:\n",
    "                        raise Exception(\"stoi iteration\")\n",
    "                    iter_counter2 += 1\n",
    "        except:\n",
    "            pass\n",
    "        with multi_count():\n",
    "            with enable_counter(tempfile_path1) as counter:\n",
    "                for i in counter(range(10)):\n",
    "                    iter_counter1 += 1\n",
    "\n",
    "            for i in simple_counter(tempfile_path2, range(10)):\n",
    "                iter_counter2 += 1\n",
    "        \n",
    "        \n",
    "        self.assertEqual(iter_counter1, 10)\n",
    "        self.assertEqual(iter_counter2, 10)\n",
    "        \n",
    "    def test_save_load_object(self):\n",
    "        tempfile_path = Path(\"test/tempfile1.tmp\")\n",
    "        save_object = {\"sum\":0}\n",
    "        save_object_path = Path(\"test/temp_sum.pickle\")\n",
    "        \n",
    "        try:\n",
    "            with enable_counter(tempfile_path) as counter:\n",
    "                save_object = counter.save_load_object(save_object, save_object_path)\n",
    "                for i in counter(range(10)):\n",
    "                    if i >= 5:\n",
    "                        raise Exception(\"stop iteration\")\n",
    "                    save_object[\"sum\"] += i  \n",
    "                    counter.object = save_object\n",
    "        except:\n",
    "            pass\n",
    "        \n",
    "        load_object = {\"sum\":100}\n",
    "        with enable_counter(tempfile_path) as counter:\n",
    "            load_object = counter.save_load_object(load_object, save_object_path)\n",
    "            for i in counter(range(10)):\n",
    "                load_object[\"sum\"] += i\n",
    "                \n",
    "        self.assertEqual(load_object[\"sum\"], 45)\n",
    "        \n",
    "    def test_save_load_func(self):\n",
    "        tempfile_path = Path(\"test/tempfile1.tmp\")\n",
    "        save_content = SaveLoadContent([0,0,0,0,0])\n",
    "        save_object_path = Path(\"test/temp_content.pickle\")\n",
    "        \n",
    "        try:\n",
    "            with enable_counter(tempfile_path) as counter:\n",
    "                counter.save_load_funcs(save_funcs=[save_content.save],\n",
    "                                        load_funcs=[save_content.load],\n",
    "                                        func_paths=[save_object_path]\n",
    "                                       )\n",
    "                for i in counter(range(10)):\n",
    "                    if i>= 5:\n",
    "                        raise Exception(\"stop iteration\")\n",
    "\n",
    "                    save_content.content = [item+i for item in save_content.content]\n",
    "        except:\n",
    "            pass\n",
    "        load_content = SaveLoadContent([0,0,0,0,0])\n",
    "        \n",
    "        with enable_counter(tempfile_path) as counter:\n",
    "            counter.save_load_funcs(save_funcs=[load_content.save],\n",
    "                                    load_funcs=[load_content.load],\n",
    "                                    func_paths=[save_object_path]\n",
    "                                   )\n",
    "            for i in counter(range(10)):\n",
    "                load_content.content = [item+i for item in load_content.content]  \n",
    "            \n",
    "        self.assertTrue(all([item==45 for item in load_content.content]))"
   ]
  },
  {
   "cell_type": "code",
   "execution_count": 110,
   "metadata": {
    "ExecuteTime": {
     "end_time": "2021-04-02T06:46:13.447100Z",
     "start_time": "2021-04-02T06:46:12.819783Z"
    }
   },
   "outputs": [
    {
     "name": "stderr",
     "output_type": "stream",
     "text": [
      "test_enable_counter (__main__.TestRestart) ... ok\n",
      "test_multi_count (__main__.TestRestart) ... ok\n",
      "test_save_load_func (__main__.TestRestart) ... ok\n",
      "test_save_load_object (__main__.TestRestart) ... ok\n",
      "test_simple_counter (__main__.TestRestart) ... ok\n",
      "\n",
      "----------------------------------------------------------------------\n",
      "Ran 5 tests in 0.594s\n",
      "\n",
      "OK\n"
     ]
    },
    {
     "data": {
      "text/plain": [
       "<unittest.main.TestProgram at 0x200105fcb88>"
      ]
     },
     "execution_count": 110,
     "metadata": {},
     "output_type": "execute_result"
    }
   ],
   "source": [
    "unittest.main(argv=['first-arg-is-ignored', \"-v\"], exit=False)\n",
    "#unittest.main(argv=['first-arg-is-ignored'], exit=False)"
   ]
  }
 ],
 "metadata": {
  "kernelspec": {
   "display_name": "torch_py37",
   "language": "python",
   "name": "torch_py37"
  },
  "language_info": {
   "codemirror_mode": {
    "name": "ipython",
    "version": 3
   },
   "file_extension": ".py",
   "mimetype": "text/x-python",
   "name": "python",
   "nbconvert_exporter": "python",
   "pygments_lexer": "ipython3",
   "version": "3.7.4"
  },
  "toc": {
   "base_numbering": 1,
   "nav_menu": {},
   "number_sections": true,
   "sideBar": true,
   "skip_h1_title": true,
   "title_cell": "Table of Contents",
   "title_sidebar": "Contents",
   "toc_cell": false,
   "toc_position": {},
   "toc_section_display": true,
   "toc_window_display": false
  }
 },
 "nbformat": 4,
 "nbformat_minor": 4
}
