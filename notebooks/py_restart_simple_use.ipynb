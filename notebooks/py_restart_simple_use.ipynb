{
 "cells": [
  {
   "cell_type": "code",
   "execution_count": 22,
   "metadata": {
    "ExecuteTime": {
     "end_time": "2021-03-28T09:44:33.329777Z",
     "start_time": "2021-03-28T09:44:33.304840Z"
    }
   },
   "outputs": [],
   "source": [
    "from pathlib import Path\n",
    "import time\n",
    "import pickle"
   ]
  },
  {
   "cell_type": "code",
   "execution_count": 1,
   "metadata": {
    "ExecuteTime": {
     "end_time": "2021-03-28T09:35:40.518968Z",
     "start_time": "2021-03-28T09:35:40.499020Z"
    }
   },
   "outputs": [],
   "source": [
    "from py_restart_ver3 import enable_counter, multi_count, simple_counter"
   ]
  },
  {
   "cell_type": "markdown",
   "metadata": {},
   "source": [
    "## 使い方"
   ]
  },
  {
   "cell_type": "markdown",
   "metadata": {},
   "source": [
    "### 一つの場合 "
   ]
  },
  {
   "cell_type": "markdown",
   "metadata": {},
   "source": [
    "以下のように，`enable_counter`をwith文に添えた返り値(`CounterClosier`オブジェクト)でイテレーターをラップする．イテレーション内でエラーが生じた場合に，一時ファイルを保存し，次回はエラーが起きたイテレーションから再開できる．\n",
    "この例では，iが4のときにKeybordInterruptを行った後，もう一度実行した結果である．"
   ]
  },
  {
   "cell_type": "code",
   "execution_count": 7,
   "metadata": {
    "ExecuteTime": {
     "end_time": "2021-03-28T09:37:05.068362Z",
     "start_time": "2021-03-28T09:36:46.907386Z"
    }
   },
   "outputs": [
    {
     "name": "stdout",
     "output_type": "stream",
     "text": [
      "4\n",
      "5\n",
      "6\n",
      "7\n",
      "8\n",
      "9\n"
     ]
    }
   ],
   "source": [
    "tempfile_path = Path(\"temp1.tmp\")\n",
    "\n",
    "with enable_counter(tempfile_path) as counter:\n",
    "    for i in counter(range(10)):\n",
    "        print(i)\n",
    "        time.sleep(3)"
   ]
  },
  {
   "cell_type": "markdown",
   "metadata": {},
   "source": [
    "### 一つの場合(指定回数ごとに保存する場合) "
   ]
  },
  {
   "cell_type": "markdown",
   "metadata": {},
   "source": [
    "with文を利用したくない場合，`enable_counter`の引数`each_save`をTrueにするか，`simple_couonter`が利用できる．どちらも異常終了時に一時ファイルを保存するわけではなく，イテレーションの指定回数ごとに保存する．また，`simple_counter`は直接ジェネレータを出力する．"
   ]
  },
  {
   "cell_type": "code",
   "execution_count": 9,
   "metadata": {
    "ExecuteTime": {
     "end_time": "2021-03-28T09:37:53.898412Z",
     "start_time": "2021-03-28T09:37:35.722919Z"
    }
   },
   "outputs": [
    {
     "name": "stdout",
     "output_type": "stream",
     "text": [
      "4\n",
      "5\n",
      "6\n",
      "7\n",
      "8\n",
      "9\n"
     ]
    }
   ],
   "source": [
    "tempfile_path = Path(\"temp2.tmp\")\n",
    "\n",
    "for i in simple_counter(tempfile_path, range(10)):\n",
    "    print(i)\n",
    "    time.sleep(3)"
   ]
  },
  {
   "cell_type": "markdown",
   "metadata": {},
   "source": [
    "### 二つ以上の場合 "
   ]
  },
  {
   "cell_type": "markdown",
   "metadata": {},
   "source": [
    "`enable_counter`あるいは`simple_counter`のみでは，一つのfor文が終了したときに一時ファイルが削除されてしまうため，二つ以上for文が連続する場合に進捗を保存できない．`multi_count`を利用すればそのインデントブロックが終了するまで一時ファイルを残すことができる．以下の例では，一つ目のfor文が終了したのちにiが2の時点でKeybordInterruptを行い，再度実行した結果である"
   ]
  },
  {
   "cell_type": "code",
   "execution_count": 11,
   "metadata": {
    "ExecuteTime": {
     "end_time": "2021-03-28T09:38:51.368647Z",
     "start_time": "2021-03-28T09:38:42.183099Z"
    }
   },
   "outputs": [
    {
     "name": "stdout",
     "output_type": "stream",
     "text": [
      "1 is finished\n",
      "2: 2\n",
      "2: 3\n",
      "2: 4\n"
     ]
    }
   ],
   "source": [
    "tempfile_path1 = Path(\"temp3.tmp\")\n",
    "tempfile_path2 = Path(\"temp4.tmp\")\n",
    "\n",
    "with multi_count():\n",
    "    with enable_counter(tempfile_path1) as counter:\n",
    "        for i in counter(range(10)):\n",
    "            print(\"1:\",i)\n",
    "            time.sleep(3)\n",
    "            \n",
    "    print(\"1 is finished\")\n",
    "    for i in simple_counter(tempfile_path2, range(5)):\n",
    "            print(\"2:\",i)\n",
    "            time.sleep(3)"
   ]
  },
  {
   "cell_type": "markdown",
   "metadata": {},
   "source": [
    "### 再帰的に使う場合 "
   ]
  },
  {
   "cell_type": "markdown",
   "metadata": {},
   "source": [
    "以下の例では，iが1,jが2の時にKeybordInterruptを行ったのち，再度実行したものである．"
   ]
  },
  {
   "cell_type": "code",
   "execution_count": 13,
   "metadata": {
    "ExecuteTime": {
     "end_time": "2021-03-28T09:39:42.938537Z",
     "start_time": "2021-03-28T09:39:18.631957Z"
    }
   },
   "outputs": [
    {
     "name": "stdout",
     "output_type": "stream",
     "text": [
      "outer: 1\n",
      "\tinner: 2\n",
      "\tinner: 3\n",
      "\tinner: 4\n",
      "outer: 2\n",
      "\tinner: 0\n",
      "\tinner: 1\n",
      "\tinner: 2\n",
      "\tinner: 3\n",
      "\tinner: 4\n"
     ]
    }
   ],
   "source": [
    "tempfile_path3 = Path(\"temp5.tmp\")\n",
    "tempfile_path4 = Path(\"temp6.tmp\")\n",
    "\n",
    "with enable_counter(tempfile_path3) as outer_counter:\n",
    "    for i in outer_counter(range(3)):\n",
    "        print(\"outer:\",i)\n",
    "        for j in simple_counter(tempfile_path4 ,range(5)):\n",
    "                print(\"\\tinner:\",j)\n",
    "                time.sleep(3)"
   ]
  },
  {
   "cell_type": "markdown",
   "metadata": {},
   "source": [
    "#### オブジェクトの一時保存"
   ]
  },
  {
   "cell_type": "markdown",
   "metadata": {},
   "source": [
    "イテレーションの進捗保存だけでなく，特定のオブジェクトも一時的に保存できる．その場合，以下のように`enable_counter`の返り値`CounterClosier`の`save_load_object`メソッドを利用できる．もちろん`save_load_object`はイテレーション内に記述\n",
    "するべきではないが，withブロック内に記述する必要がある．登録したオブジェクトがイミュータブルな場合，イテレーション途中で`CounterClosier`の`object`プロパティを明示的に変更する．  "
   ]
  },
  {
   "cell_type": "markdown",
   "metadata": {},
   "source": [
    "この例では，iが4のときにKeybordInterruptを行った後，もう一度実行した結果である．"
   ]
  },
  {
   "cell_type": "code",
   "execution_count": 15,
   "metadata": {
    "ExecuteTime": {
     "end_time": "2021-03-28T09:40:40.879802Z",
     "start_time": "2021-03-28T09:40:22.643806Z"
    }
   },
   "outputs": [
    {
     "name": "stdout",
     "output_type": "stream",
     "text": [
      "{'sum': 6}\n",
      "i: 4\n",
      "sum: 10\n",
      "i: 5\n",
      "sum: 15\n",
      "i: 6\n",
      "sum: 21\n",
      "i: 7\n",
      "sum: 28\n",
      "i: 8\n",
      "sum: 36\n",
      "i: 9\n",
      "sum: 45\n"
     ]
    }
   ],
   "source": [
    "tempfile_path = Path(\"temp7.tmp\")\n",
    "\n",
    "# 保存したいオブジェクト\n",
    "save_object = {\"sum\":0}\n",
    "\n",
    "with enable_counter(tempfile_path) as counter:\n",
    "    # オブジェクトの登録(保存ファイルがある場合の読み込み)\n",
    "    save_object = counter.save_load_object(save_object, Path(\"temp_sum.pickle\"))\n",
    "    print(save_object)\n",
    "    for i in counter(range(10)):\n",
    "        print(\"i:\",i)\n",
    "        time.sleep(3)\n",
    "        \n",
    "        save_object[\"sum\"] += i\n",
    "        # 変更を明示する場合，以下のようにする\n",
    "        #counter.object = save_object\n",
    "        \n",
    "        print(\"sum:\",save_object[\"sum\"])"
   ]
  },
  {
   "cell_type": "markdown",
   "metadata": {},
   "source": [
    "毎回保存する場合，つまり`enable_counter`の引数`each_save`を`True`にした場合，with文を用いなくても保存できる．しかしイテレーション毎にpickleで保存するため，データの読み込み・書き出しのオーバーヘッドが加わることに注意する．`enable_counter`の引数`save_span`を指定することで，保存間隔を指定できる．"
   ]
  },
  {
   "cell_type": "markdown",
   "metadata": {},
   "source": [
    "指定回数ごとに保存することによって，エラーで検知できないような終了(例えば，Google colabの接続切れなど)をしてしまっても，一次ファイルを保存できるメリットがある．"
   ]
  },
  {
   "cell_type": "code",
   "execution_count": 17,
   "metadata": {
    "ExecuteTime": {
     "end_time": "2021-03-28T09:43:26.085489Z",
     "start_time": "2021-03-28T09:43:07.514658Z"
    }
   },
   "outputs": [
    {
     "name": "stdout",
     "output_type": "stream",
     "text": [
      "{'sum': 6}\n",
      "i: 4\n",
      "sum: 10\n",
      "i: 5\n",
      "sum: 15\n",
      "i: 6\n",
      "sum: 21\n",
      "i: 7\n",
      "sum: 28\n",
      "i: 8\n",
      "sum: 36\n",
      "i: 9\n",
      "sum: 45\n"
     ]
    }
   ],
   "source": [
    "tempfile_path = Path(\"temp8.tmp\")\n",
    "\n",
    "# 保存したいオブジェクト\n",
    "save_object = {\"sum\":0}\n",
    "\n",
    "counter = enable_counter(tempfile_path, each_save=True, save_span=1)\n",
    "# オブジェクトの登録(保存ファイルがある場合の読み込み)\n",
    "save_object = counter.save_load_object(save_object, Path(\"temp_sum.pickle\"))\n",
    "print(save_object)\n",
    "\n",
    "for i in counter(range(10)):\n",
    "    print(\"i:\",i)\n",
    "    time.sleep(3)\n",
    "\n",
    "    save_object[\"sum\"] += i\n",
    "    counter.object = save_object  # 一応明示的に変更\n",
    "\n",
    "    print(\"sum:\",save_object[\"sum\"])"
   ]
  },
  {
   "cell_type": "markdown",
   "metadata": {},
   "source": [
    "### 任意の保存・ロード関数の利用 "
   ]
  },
  {
   "cell_type": "markdown",
   "metadata": {},
   "source": [
    "機械学習における重みファイルの保存など，オブジェクトの保存に外部の関数を利用したい場合がある．その場合は`CounterClosier`の`save_load_funcs`メソッドを利用できる．`save_load_funcs`の引数は`save_funcs`(保存用の関数のリスト),`load_funcs`(読み込み用の関数のリスト)，`func_paths`(二つの関数の引数となるパスのリスト)の3つのリストを対応するように渡す必要がある．保存用の関数・読み込み用の関数，はどちらもパスのみを引数とするため,任意の関数を利用する場合は無名関数などを用いて調節する必要がある．なお，`load_funcs`に与える関数は，保存したいオブジェクトをグローバル変数にして変更する必要があることに注意する．"
   ]
  },
  {
   "cell_type": "code",
   "execution_count": 24,
   "metadata": {
    "ExecuteTime": {
     "end_time": "2021-03-28T09:44:51.950571Z",
     "start_time": "2021-03-28T09:44:51.916661Z"
    }
   },
   "outputs": [],
   "source": [
    "import torch\n",
    "import torch.nn as nn\n",
    "import numpy as np"
   ]
  },
  {
   "cell_type": "code",
   "execution_count": 28,
   "metadata": {
    "ExecuteTime": {
     "end_time": "2021-03-28T09:46:32.879437Z",
     "start_time": "2021-03-28T09:46:32.778173Z"
    }
   },
   "outputs": [],
   "source": [
    "linear_model = nn.Linear(5, 10)\n",
    "temp_array = np.zeros((2,2))\n",
    "temp_tensor = torch.zeros((3,3))\n",
    "\n",
    "# pickleでtensorを書き出す用の関数\n",
    "def save_temp_tensor_as_pickle(save_path):\n",
    "    with open(save_path, \"wb\") as f:\n",
    "        pickle.dump(temp_tensor, f)\n",
    "    \n",
    "# 保存関数のリスト\n",
    "save_funcs = [lambda save_path: torch.save(linear_model.state_dict(), save_path),\n",
    "              lambda save_path: np.save(save_path, temp_array),\n",
    "              save_temp_tensor_as_pickle\n",
    "             ]\n",
    "\n",
    "# pytorchのモデルを読み込む用の関数\n",
    "def load_linear_model(load_path):\n",
    "    global linear_model  # こちらの宣言は必要ない\n",
    "    linear_model.load_state_dict(torch.load(load_path))\n",
    "# ndarrayを読み込む用の関数\n",
    "def load_temp_array(load_path):\n",
    "    global temp_array  # 書き換えるため，グローバル変数宣言\n",
    "    temp_array = np.load(load_path)\n",
    "# pickleでtensorを読み込む用の関数\n",
    "def load_temp_tensor(load_path):\n",
    "    global temp_tensor  # 書き換えるため，グローバル変数宣言\n",
    "    with open(load_path, \"rb\") as f:\n",
    "        temp_tensor = pickle.load(f)\n",
    "\n",
    "# ロード関数のリスト\n",
    "load_funcs = [load_linear_model,\n",
    "              load_temp_array,\n",
    "              load_temp_tensor,\n",
    "             ]\n",
    "\n",
    "#　パスのリスト\n",
    "func_paths = [Path(\"temp_linear_model.pth\"),\n",
    "              Path(\"temp_array.npy\"),\n",
    "              Path(\"temp_tensor.pickle\")]"
   ]
  },
  {
   "cell_type": "markdown",
   "metadata": {},
   "source": [
    "この例では，iが4のときにKeybordInterruptを行った後，もう一度実行した結果である．"
   ]
  },
  {
   "cell_type": "code",
   "execution_count": 30,
   "metadata": {
    "ExecuteTime": {
     "end_time": "2021-03-28T09:47:10.490940Z",
     "start_time": "2021-03-28T09:46:51.854260Z"
    }
   },
   "outputs": [
    {
     "name": "stdout",
     "output_type": "stream",
     "text": [
      "load temp_array: [[6. 6.]\n",
      " [6. 6.]]\n",
      "load temp_tensor: tensor([[6., 6., 6.],\n",
      "        [6., 6., 6.],\n",
      "        [6., 6., 6.]])\n",
      "i: 4\n",
      "temp_array: [[10. 10.]\n",
      " [10. 10.]]\n",
      "temp_tensr: tensor([[10., 10., 10.],\n",
      "        [10., 10., 10.],\n",
      "        [10., 10., 10.]])\n",
      "i: 5\n",
      "temp_array: [[15. 15.]\n",
      " [15. 15.]]\n",
      "temp_tensr: tensor([[15., 15., 15.],\n",
      "        [15., 15., 15.],\n",
      "        [15., 15., 15.]])\n",
      "i: 6\n",
      "temp_array: [[21. 21.]\n",
      " [21. 21.]]\n",
      "temp_tensr: tensor([[21., 21., 21.],\n",
      "        [21., 21., 21.],\n",
      "        [21., 21., 21.]])\n",
      "i: 7\n",
      "temp_array: [[28. 28.]\n",
      " [28. 28.]]\n",
      "temp_tensr: tensor([[28., 28., 28.],\n",
      "        [28., 28., 28.],\n",
      "        [28., 28., 28.]])\n",
      "i: 8\n",
      "temp_array: [[36. 36.]\n",
      " [36. 36.]]\n",
      "temp_tensr: tensor([[36., 36., 36.],\n",
      "        [36., 36., 36.],\n",
      "        [36., 36., 36.]])\n",
      "i: 9\n",
      "temp_array: [[45. 45.]\n",
      " [45. 45.]]\n",
      "temp_tensr: tensor([[45., 45., 45.],\n",
      "        [45., 45., 45.],\n",
      "        [45., 45., 45.]])\n"
     ]
    }
   ],
   "source": [
    "tempfile_path = Path(\"temp9.tmp\")\n",
    "\n",
    "with enable_counter(tempfile_path) as counter:\n",
    "    # 保存・ロード関数の登録(保存ファイルがある場合は読み込み)\n",
    "    counter.save_load_funcs(save_funcs=save_funcs,\n",
    "                            load_funcs=load_funcs,\n",
    "                            func_paths=func_paths)\n",
    "    \n",
    "    print(\"load temp_array:\", temp_array)\n",
    "    print(\"load temp_tensor:\", temp_tensor)\n",
    "    for i in counter(range(10)):\n",
    "        print(\"i:\",i)\n",
    "        time.sleep(3)\n",
    "        \n",
    "        temp_array += i * np.ones((2,2))\n",
    "        temp_tensor += i * torch.ones((3,3))\n",
    "        print(\"temp_array:\", temp_array)\n",
    "        print(\"temp_tensr:\", temp_tensor)"
   ]
  },
  {
   "cell_type": "markdown",
   "metadata": {},
   "source": [
    "###  エラーとなる処理"
   ]
  },
  {
   "cell_type": "markdown",
   "metadata": {},
   "source": [
    "以下のように，`multi_count`は再帰的に利用できない"
   ]
  },
  {
   "cell_type": "code",
   "execution_count": 31,
   "metadata": {
    "ExecuteTime": {
     "end_time": "2021-03-28T09:47:33.800477Z",
     "start_time": "2021-03-28T09:47:33.679796Z"
    }
   },
   "outputs": [
    {
     "ename": "Exception",
     "evalue": "MultiCount has already opend. cannot open another MultiCount",
     "output_type": "error",
     "traceback": [
      "\u001b[1;31m---------------------------------------------------------------------------\u001b[0m",
      "\u001b[1;31mException\u001b[0m                                 Traceback (most recent call last)",
      "\u001b[1;32m<ipython-input-31-3b3e455f2f62>\u001b[0m in \u001b[0;36m<module>\u001b[1;34m\u001b[0m\n\u001b[0;32m      1\u001b[0m \u001b[1;32mwith\u001b[0m \u001b[0mmulti_count\u001b[0m\u001b[1;33m(\u001b[0m\u001b[1;33m)\u001b[0m\u001b[1;33m:\u001b[0m\u001b[1;33m\u001b[0m\u001b[1;33m\u001b[0m\u001b[0m\n\u001b[1;32m----> 2\u001b[1;33m     \u001b[1;32mwith\u001b[0m \u001b[0mmulti_count\u001b[0m\u001b[1;33m(\u001b[0m\u001b[1;33m)\u001b[0m\u001b[1;33m:\u001b[0m\u001b[1;33m\u001b[0m\u001b[1;33m\u001b[0m\u001b[0m\n\u001b[0m\u001b[0;32m      3\u001b[0m         \u001b[1;32mpass\u001b[0m\u001b[1;33m\u001b[0m\u001b[1;33m\u001b[0m\u001b[0m\n",
      "\u001b[1;32mE:\\py_restart\\py_restart_ver3.py\u001b[0m in \u001b[0;36m__enter__\u001b[1;34m(self)\u001b[0m\n\u001b[0;32m     26\u001b[0m     \u001b[1;32mdef\u001b[0m \u001b[0m__enter__\u001b[0m\u001b[1;33m(\u001b[0m\u001b[0mself\u001b[0m\u001b[1;33m)\u001b[0m\u001b[1;33m:\u001b[0m\u001b[1;33m\u001b[0m\u001b[1;33m\u001b[0m\u001b[0m\n\u001b[0;32m     27\u001b[0m         \u001b[1;32mif\u001b[0m \u001b[0mconfig\u001b[0m\u001b[1;33m.\u001b[0m\u001b[0mparent\u001b[0m \u001b[1;32mis\u001b[0m \u001b[1;32mnot\u001b[0m \u001b[1;32mNone\u001b[0m\u001b[1;33m:\u001b[0m\u001b[1;33m\u001b[0m\u001b[1;33m\u001b[0m\u001b[0m\n\u001b[1;32m---> 28\u001b[1;33m             \u001b[1;32mraise\u001b[0m \u001b[0mException\u001b[0m\u001b[1;33m(\u001b[0m\u001b[1;34m\"MultiCount has already opend. cannot open another MultiCount\"\u001b[0m\u001b[1;33m)\u001b[0m\u001b[1;33m\u001b[0m\u001b[1;33m\u001b[0m\u001b[0m\n\u001b[0m\u001b[0;32m     29\u001b[0m \u001b[1;33m\u001b[0m\u001b[0m\n\u001b[0;32m     30\u001b[0m         \u001b[0mconfig\u001b[0m\u001b[1;33m.\u001b[0m\u001b[0mparent\u001b[0m \u001b[1;33m=\u001b[0m \u001b[0mself\u001b[0m\u001b[1;33m.\u001b[0m\u001b[0mparent\u001b[0m\u001b[1;33m\u001b[0m\u001b[1;33m\u001b[0m\u001b[0m\n",
      "\u001b[1;31mException\u001b[0m: MultiCount has already opend. cannot open another MultiCount"
     ]
    }
   ],
   "source": [
    "with multi_count():\n",
    "    with multi_count():\n",
    "        pass"
   ]
  },
  {
   "cell_type": "code",
   "execution_count": null,
   "metadata": {},
   "outputs": [],
   "source": []
  }
 ],
 "metadata": {
  "kernelspec": {
   "display_name": "torch_py37",
   "language": "python",
   "name": "torch_py37"
  },
  "language_info": {
   "codemirror_mode": {
    "name": "ipython",
    "version": 3
   },
   "file_extension": ".py",
   "mimetype": "text/x-python",
   "name": "python",
   "nbconvert_exporter": "python",
   "pygments_lexer": "ipython3",
   "version": "3.7.4"
  },
  "toc": {
   "base_numbering": 1,
   "nav_menu": {},
   "number_sections": true,
   "sideBar": true,
   "skip_h1_title": true,
   "title_cell": "Table of Contents",
   "title_sidebar": "Contents",
   "toc_cell": false,
   "toc_position": {},
   "toc_section_display": true,
   "toc_window_display": false
  }
 },
 "nbformat": 4,
 "nbformat_minor": 4
}
